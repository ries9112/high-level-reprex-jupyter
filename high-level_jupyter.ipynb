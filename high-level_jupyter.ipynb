{
 "cells": [
  {
   "cell_type": "markdown",
   "metadata": {},
   "source": [
    "# High-level R tutorial"
   ]
  },
  {
   "cell_type": "markdown",
   "metadata": {},
   "source": [
    "##### Full Version: https://cryptocurrencyresearch.org/"
   ]
  },
  {
   "cell_type": "markdown",
   "metadata": {},
   "source": [
    "## Install Packages"
   ]
  },
  {
   "cell_type": "code",
   "execution_count": 1,
   "metadata": {},
   "outputs": [
    {
     "name": "stderr",
     "output_type": "stream",
     "text": [
      "Installing package into 'C:/Users/ries9/Documents/R/win-library/3.6'\n",
      "(as 'lib' is unspecified)\n"
     ]
    },
    {
     "name": "stdout",
     "output_type": "stream",
     "text": [
      "package 'pacman' successfully unpacked and MD5 sums checked\n",
      "\n",
      "The downloaded binary packages are in\n",
      "\tC:\\Users\\ries9\\AppData\\Local\\Temp\\Rtmpw3PGjg\\downloaded_packages\n"
     ]
    }
   ],
   "source": [
    "install.packages(\"pacman\")"
   ]
  },
  {
   "cell_type": "code",
   "execution_count": 3,
   "metadata": {},
   "outputs": [
    {
     "name": "stderr",
     "output_type": "stream",
     "text": [
      "Warning message:\n",
      "\"package 'pacman' was built under R version 3.6.3\""
     ]
    }
   ],
   "source": [
    "library(pacman)"
   ]
  },
  {
   "cell_type": "markdown",
   "metadata": {},
   "source": [
    "Now we can use the `p_load()` function to install and load all other packages we will need: "
   ]
  },
  {
   "cell_type": "code",
   "execution_count": 4,
   "metadata": {},
   "outputs": [
    {
     "name": "stderr",
     "output_type": "stream",
     "text": [
      "Installing package into 'C:/Users/ries9/Documents/R/win-library/3.6'\n",
      "(as 'lib' is unspecified)\n",
      "also installing the dependency 'rlang'\n",
      "\n",
      "Warning message:\n",
      "\"unable to access index for repository http://www.stats.ox.ac.uk/pub/RWin/bin/windows/contrib/3.6:\n",
      "  cannot open URL 'http://www.stats.ox.ac.uk/pub/RWin/bin/windows/contrib/3.6/PACKAGES'\""
     ]
    },
    {
     "name": "stdout",
     "output_type": "stream",
     "text": [
      "package 'rlang' successfully unpacked and MD5 sums checked\n"
     ]
    },
    {
     "name": "stderr",
     "output_type": "stream",
     "text": [
      "Warning message:\n",
      "\"cannot remove prior installation of package 'rlang'\"Warning message in file.copy(savedcopy, lib, recursive = TRUE):\n",
      "\"problem copying C:\\Users\\ries9\\Documents\\R\\win-library\\3.6\\00LOCK\\rlang\\libs\\x64\\rlang.dll to C:\\Users\\ries9\\Documents\\R\\win-library\\3.6\\rlang\\libs\\x64\\rlang.dll: Permission denied\"Warning message:\n",
      "\"restored 'rlang'\""
     ]
    },
    {
     "name": "stdout",
     "output_type": "stream",
     "text": [
      "package 'dplyr' successfully unpacked and MD5 sums checked\n",
      "\n",
      "The downloaded binary packages are in\n",
      "\tC:\\Users\\ries9\\AppData\\Local\\Temp\\Rtmpq818yg\\downloaded_packages\n"
     ]
    },
    {
     "name": "stderr",
     "output_type": "stream",
     "text": [
      "\n",
      "dplyr installed\n",
      "Warning message:\n",
      "\"package 'dplyr' was built under R version 3.6.3\"Installing package into 'C:/Users/ries9/Documents/R/win-library/3.6'\n",
      "(as 'lib' is unspecified)\n",
      "Warning message:\n",
      "\"unable to access index for repository http://www.stats.ox.ac.uk/pub/RWin/bin/windows/contrib/3.6:\n",
      "  cannot open URL 'http://www.stats.ox.ac.uk/pub/RWin/bin/windows/contrib/3.6/PACKAGES'\""
     ]
    },
    {
     "name": "stdout",
     "output_type": "stream",
     "text": [
      "package 'ggplot2' successfully unpacked and MD5 sums checked\n",
      "\n",
      "The downloaded binary packages are in\n",
      "\tC:\\Users\\ries9\\AppData\\Local\\Temp\\Rtmpq818yg\\downloaded_packages\n"
     ]
    },
    {
     "name": "stderr",
     "output_type": "stream",
     "text": [
      "\n",
      "ggplot2 installed\n",
      "Warning message:\n",
      "\"package 'ggplot2' was built under R version 3.6.3\"Installing package into 'C:/Users/ries9/Documents/R/win-library/3.6'\n",
      "(as 'lib' is unspecified)\n",
      "Warning message:\n",
      "\"unable to access index for repository http://www.stats.ox.ac.uk/pub/RWin/bin/windows/contrib/3.6:\n",
      "  cannot open URL 'http://www.stats.ox.ac.uk/pub/RWin/bin/windows/contrib/3.6/PACKAGES'\""
     ]
    },
    {
     "name": "stdout",
     "output_type": "stream",
     "text": [
      "package 'caret' successfully unpacked and MD5 sums checked\n",
      "\n",
      "The downloaded binary packages are in\n",
      "\tC:\\Users\\ries9\\AppData\\Local\\Temp\\Rtmpq818yg\\downloaded_packages\n"
     ]
    },
    {
     "name": "stderr",
     "output_type": "stream",
     "text": [
      "\n",
      "caret installed\n",
      "Warning message:\n",
      "\"package 'caret' was built under R version 3.6.3\"Warning message:\n",
      "\"package 'ggplot2' was built under R version 3.6.3\"Installing package into 'C:/Users/ries9/Documents/R/win-library/3.6'\n",
      "(as 'lib' is unspecified)\n",
      "Warning message:\n",
      "\"unable to access index for repository http://www.stats.ox.ac.uk/pub/RWin/bin/windows/contrib/3.6:\n",
      "  cannot open URL 'http://www.stats.ox.ac.uk/pub/RWin/bin/windows/contrib/3.6/PACKAGES'\""
     ]
    },
    {
     "name": "stdout",
     "output_type": "stream",
     "text": [
      "package 'tsibble' successfully unpacked and MD5 sums checked\n",
      "\n",
      "The downloaded binary packages are in\n",
      "\tC:\\Users\\ries9\\AppData\\Local\\Temp\\Rtmpq818yg\\downloaded_packages\n"
     ]
    },
    {
     "name": "stderr",
     "output_type": "stream",
     "text": [
      "\n",
      "tsibble installed\n",
      "Warning message:\n",
      "\"package 'tsibble' was built under R version 3.6.3\"Installing package into 'C:/Users/ries9/Documents/R/win-library/3.6'\n",
      "(as 'lib' is unspecified)\n",
      "Warning message:\n",
      "\"unable to access index for repository http://www.stats.ox.ac.uk/pub/RWin/bin/windows/contrib/3.6:\n",
      "  cannot open URL 'http://www.stats.ox.ac.uk/pub/RWin/bin/windows/contrib/3.6/PACKAGES'\""
     ]
    },
    {
     "name": "stdout",
     "output_type": "stream",
     "text": [
      "package 'fabletools' successfully unpacked and MD5 sums checked\n",
      "\n",
      "The downloaded binary packages are in\n",
      "\tC:\\Users\\ries9\\AppData\\Local\\Temp\\Rtmpq818yg\\downloaded_packages\n"
     ]
    },
    {
     "name": "stderr",
     "output_type": "stream",
     "text": [
      "\n",
      "fabletools installed\n",
      "Warning message:\n",
      "\"package 'fabletools' was built under R version 3.6.3\"Installing package into 'C:/Users/ries9/Documents/R/win-library/3.6'\n",
      "(as 'lib' is unspecified)\n",
      "Warning message:\n",
      "\"unable to access index for repository http://www.stats.ox.ac.uk/pub/RWin/bin/windows/contrib/3.6:\n",
      "  cannot open URL 'http://www.stats.ox.ac.uk/pub/RWin/bin/windows/contrib/3.6/PACKAGES'\""
     ]
    },
    {
     "name": "stdout",
     "output_type": "stream",
     "text": [
      "package 'fable' successfully unpacked and MD5 sums checked\n",
      "\n",
      "The downloaded binary packages are in\n",
      "\tC:\\Users\\ries9\\AppData\\Local\\Temp\\Rtmpq818yg\\downloaded_packages\n"
     ]
    },
    {
     "name": "stderr",
     "output_type": "stream",
     "text": [
      "\n",
      "fable installed\n",
      "Warning message:\n",
      "\"package 'fable' was built under R version 3.6.3\"Warning message:\n",
      "\"package 'fabletools' was built under R version 3.6.3\"Installing package into 'C:/Users/ries9/Documents/R/win-library/3.6'\n",
      "(as 'lib' is unspecified)\n",
      "Warning message:\n",
      "\"unable to access index for repository http://www.stats.ox.ac.uk/pub/RWin/bin/windows/contrib/3.6:\n",
      "  cannot open URL 'http://www.stats.ox.ac.uk/pub/RWin/bin/windows/contrib/3.6/PACKAGES'\""
     ]
    },
    {
     "name": "stdout",
     "output_type": "stream",
     "text": [
      "package 'feasts' successfully unpacked and MD5 sums checked\n",
      "\n",
      "The downloaded binary packages are in\n",
      "\tC:\\Users\\ries9\\AppData\\Local\\Temp\\Rtmpq818yg\\downloaded_packages\n"
     ]
    },
    {
     "name": "stderr",
     "output_type": "stream",
     "text": [
      "\n",
      "feasts installed\n",
      "Warning message:\n",
      "\"package 'feasts' was built under R version 3.6.3\"Warning message:\n",
      "\"package 'fabletools' was built under R version 3.6.3\"Warning message in p_load(\"pins\", \"dplyr\", \"ggplot2\", \"caret\", \"xgboost\", \"kernlab\", :\n",
      "\"Failed to install/load:\n",
      "dplyr, ggplot2, caret, tsibble, fabletools, fable, feasts\""
     ]
    }
   ],
   "source": [
    "p_load(\"pins\",\"dplyr\",\"ggplot2\",\"caret\",\"xgboost\",\"kernlab\",\"tsibble\",\"fabletools\",\"fable\",\"feasts\",\"urca\") # can vctrs be removed?"
   ]
  },
  {
   "cell_type": "markdown",
   "metadata": {},
   "source": [
    "## Get the data"
   ]
  },
  {
   "cell_type": "markdown",
   "metadata": {},
   "source": [
    "We can get the data using the `pins` package:"
   ]
  },
  {
   "cell_type": "code",
   "execution_count": 5,
   "metadata": {},
   "outputs": [],
   "source": [
    "board_register(name = \"pins_board\", url = \"https://raw.githubusercontent.com/predictcrypto/pins/master/\", board = \"datatxt\")"
   ]
  },
  {
   "cell_type": "code",
   "execution_count": 8,
   "metadata": {},
   "outputs": [
    {
     "ename": "ERROR",
     "evalue": "Error in loadNamespace(i, c(lib.loc, .libPaths()), versionCheck = vI[[i]]): namespace 'rlang' 0.4.6 is already loaded, but >= 0.4.7 is required\n",
     "output_type": "error",
     "traceback": [
      "Error in loadNamespace(i, c(lib.loc, .libPaths()), versionCheck = vI[[i]]): namespace 'rlang' 0.4.6 is already loaded, but >= 0.4.7 is required\nTraceback:\n",
      "1. pin_get(name = \"cryptodatadownload_ETH_Binance\")",
      "2. pin_load(structure(result, class = manifest$type))",
      "3. pin_load.table(structure(result, class = manifest$type))",
      "4. format_tibble(result)",
      "5. get(\"as_tibble\", envir = asNamespace(\"tibble\"))",
      "6. asNamespace(\"tibble\")",
      "7. getNamespace(ns)",
      "8. loadNamespace(name)",
      "9. namespaceImportFrom(ns, loadNamespace(j <- i[[1L]], c(lib.loc, \n .     .libPaths()), versionCheck = vI[[j]]), i[[2L]], from = package)",
      "10. asNamespace(ns)",
      "11. loadNamespace(j <- i[[1L]], c(lib.loc, .libPaths()), versionCheck = vI[[j]])",
      "12. namespaceImport(ns, loadNamespace(i, c(lib.loc, .libPaths()), \n  .     versionCheck = vI[[i]]), from = package)",
      "13. loadNamespace(i, c(lib.loc, .libPaths()), versionCheck = vI[[i]])",
      "14. stop(gettextf(\"namespace %s %s is already loaded, but %s %s is required\", \n  .     sQuote(package), current, zop, zversion), domain = NA)"
     ]
    }
   ],
   "source": [
    "cryptodata <- pin_get(name = \"cryptodatadownload_ETH_Binance\")"
   ]
  },
  {
   "cell_type": "markdown",
   "metadata": {},
   "source": [
    "#### Preview data:"
   ]
  },
  {
   "cell_type": "code",
   "execution_count": null,
   "metadata": {},
   "outputs": [],
   "source": [
    "cryptodata"
   ]
  },
  {
   "cell_type": "markdown",
   "metadata": {},
   "source": [
    "## Clean Data "
   ]
  },
  {
   "cell_type": "code",
   "execution_count": null,
   "metadata": {},
   "outputs": [],
   "source": [
    "cryptodata <- mutate(cryptodata, Volatility = ((High - Low)/Low)*100)"
   ]
  },
  {
   "cell_type": "markdown",
   "metadata": {},
   "source": [
    "##### We can look at the new column `Volatility`"
   ]
  },
  {
   "cell_type": "code",
   "execution_count": null,
   "metadata": {},
   "outputs": [],
   "source": [
    "head(cryptodata$Volatility)"
   ]
  },
  {
   "cell_type": "markdown",
   "metadata": {},
   "source": [
    "#### Remove Symbol column:"
   ]
  },
  {
   "cell_type": "code",
   "execution_count": null,
   "metadata": {},
   "outputs": [],
   "source": [
    "cryptodata <- select(cryptodata, -Symbol)"
   ]
  },
  {
   "cell_type": "markdown",
   "metadata": {},
   "source": [
    "#### Train/Test Split "
   ]
  },
  {
   "cell_type": "code",
   "execution_count": null,
   "metadata": {},
   "outputs": [],
   "source": [
    "cryptodata_train <- head(cryptodata, as.integer(nrow(cryptodata)*.8))"
   ]
  },
  {
   "cell_type": "code",
   "execution_count": null,
   "metadata": {},
   "outputs": [],
   "source": [
    "cryptodata_test <- tail(cryptodata, as.integer(nrow(cryptodata)*.2))"
   ]
  },
  {
   "cell_type": "markdown",
   "metadata": {},
   "source": [
    "## Visualization"
   ]
  },
  {
   "cell_type": "code",
   "execution_count": null,
   "metadata": {},
   "outputs": [],
   "source": [
    "ggplot(data = cryptodata, aes(x = DateTime, y = Close))"
   ]
  },
  {
   "cell_type": "code",
   "execution_count": null,
   "metadata": {},
   "outputs": [],
   "source": [
    "price_chart <- ggplot(data = cryptodata, aes(x = DateTime, y = Close)) +\n",
    "  geom_line()\n",
    "# Show chart\n",
    "price_chart"
   ]
  },
  {
   "cell_type": "markdown",
   "metadata": {},
   "source": [
    "## Predictive Models"
   ]
  },
  {
   "cell_type": "markdown",
   "metadata": {},
   "source": [
    "##### Simple linear regression: "
   ]
  },
  {
   "cell_type": "code",
   "execution_count": null,
   "metadata": {},
   "outputs": [],
   "source": [
    "lm(data = cryptodata_train, formula = \"Target24HourClose ~ .\")"
   ]
  },
  {
   "cell_type": "markdown",
   "metadata": {},
   "source": [
    "##### Making a linear regression model using the `caret` package:"
   ]
  },
  {
   "cell_type": "code",
   "execution_count": null,
   "metadata": {},
   "outputs": [],
   "source": [
    "lm_fit <- train(Target24HourClose ~ .,\n",
    "                    data = cryptodata_train,\n",
    "                    method = \"lm\")"
   ]
  },
  {
   "cell_type": "code",
   "execution_count": null,
   "metadata": {},
   "outputs": [],
   "source": [
    "lm_fit"
   ]
  },
  {
   "cell_type": "markdown",
   "metadata": {},
   "source": [
    "##### XGBoost model:"
   ]
  },
  {
   "cell_type": "code",
   "execution_count": null,
   "metadata": {},
   "outputs": [],
   "source": [
    "xgb_fit <- train(Target24HourClose ~ . ,\n",
    "                    data = cryptodata_train,\n",
    "                    method = \"xgbLinear\")"
   ]
  },
  {
   "cell_type": "markdown",
   "metadata": {},
   "source": [
    "##### Additional options in `caret::train()`:"
   ]
  },
  {
   "cell_type": "code",
   "execution_count": null,
   "metadata": {},
   "outputs": [],
   "source": [
    "svm_fit <- train(Target24HourClose ~ . ,\n",
    "                    data = cryptodata_train,\n",
    "                    method = \"svmPoly\",\n",
    "                    preProc = c(\"center\", \"scale\"))"
   ]
  },
  {
   "cell_type": "code",
   "execution_count": null,
   "metadata": {},
   "outputs": [],
   "source": [
    "svm_fit"
   ]
  },
  {
   "cell_type": "markdown",
   "metadata": {},
   "source": [
    "#### Time-Aware Cross Validation"
   ]
  },
  {
   "cell_type": "code",
   "execution_count": null,
   "metadata": {},
   "outputs": [],
   "source": [
    "train_control <- trainControl(method = \"timeslice\",\n",
    "                              initialWindow = 31,\n",
    "                              horizon = 1,\n",
    "                              fixedWindow = TRUE,\n",
    "                              number = 5)\n",
    "                              #,search = 'grid')"
   ]
  },
  {
   "cell_type": "markdown",
   "metadata": {},
   "source": [
    "##### Linear Model with cross validation:"
   ]
  },
  {
   "cell_type": "code",
   "execution_count": null,
   "metadata": {},
   "outputs": [],
   "source": [
    "lm_fit <- train(Target24HourClose ~ . ,\n",
    "                    data = cryptodata_train,\n",
    "                    method = \"lm\",\n",
    "                    trControl = train_control)"
   ]
  },
  {
   "cell_type": "code",
   "execution_count": null,
   "metadata": {},
   "outputs": [],
   "source": [
    "lm_fit"
   ]
  },
  {
   "cell_type": "markdown",
   "metadata": {},
   "source": [
    "##### Using XGBoost with cross validation: (Commented out because takes a long time)"
   ]
  },
  {
   "cell_type": "code",
   "execution_count": null,
   "metadata": {},
   "outputs": [],
   "source": [
    "#xgb_fit <- train(Target24HourClose ~ . ,\n",
    "#                    data = cryptodata_train,\n",
    "#                    method = \"xgbLinear\",\n",
    "#                    trControl = train_control)"
   ]
  },
  {
   "cell_type": "code",
   "execution_count": null,
   "metadata": {},
   "outputs": [],
   "source": [
    "#xgb_fit"
   ]
  },
  {
   "cell_type": "markdown",
   "metadata": {},
   "source": [
    "### Make Predictions"
   ]
  },
  {
   "cell_type": "code",
   "execution_count": null,
   "metadata": {},
   "outputs": [],
   "source": [
    "xgb_pred <- predict(xgb_fit, newdata = cryptodata_test)"
   ]
  },
  {
   "cell_type": "code",
   "execution_count": null,
   "metadata": {},
   "outputs": [],
   "source": [
    "head(xgb_pred)"
   ]
  },
  {
   "cell_type": "markdown",
   "metadata": {},
   "source": [
    "### Evaluate Performance"
   ]
  },
  {
   "cell_type": "code",
   "execution_count": null,
   "metadata": {},
   "outputs": [],
   "source": [
    "postResample(pred = xgb_pred, obs = cryptodata_test$Close)"
   ]
  },
  {
   "cell_type": "markdown",
   "metadata": {},
   "source": [
    "## Timeseries Data Prep"
   ]
  },
  {
   "cell_type": "markdown",
   "metadata": {},
   "source": [
    "#### Make a tsibble"
   ]
  },
  {
   "cell_type": "code",
   "execution_count": null,
   "metadata": {},
   "outputs": [],
   "source": [
    "cryptodata_ts <- as_tsibble(cryptodata, index = DateTime)"
   ]
  },
  {
   "cell_type": "code",
   "execution_count": 7,
   "metadata": {},
   "outputs": [
    {
     "ename": "ERROR",
     "evalue": "Error in eval(expr, envir, enclos): object 'cryptodata_ts' not found\n",
     "output_type": "error",
     "traceback": [
      "Error in eval(expr, envir, enclos): object 'cryptodata_ts' not found\nTraceback:\n"
     ]
    }
   ],
   "source": [
    "cryptodata_ts"
   ]
  },
  {
   "cell_type": "markdown",
   "metadata": {},
   "source": [
    "##### Are there any gaps?"
   ]
  },
  {
   "cell_type": "code",
   "execution_count": null,
   "metadata": {},
   "outputs": [],
   "source": [
    "has_gaps(cryptodata_ts)"
   ]
  },
  {
   "cell_type": "markdown",
   "metadata": {},
   "source": [
    "##### Find gaps"
   ]
  },
  {
   "cell_type": "code",
   "execution_count": null,
   "metadata": {},
   "outputs": [],
   "source": [
    "scan_gaps(cryptodata_ts)"
   ]
  },
  {
   "cell_type": "markdown",
   "metadata": {},
   "source": [
    "#### Fill data gaps"
   ]
  },
  {
   "cell_type": "code",
   "execution_count": null,
   "metadata": {},
   "outputs": [],
   "source": [
    "cryptodata_ts <- fill_gaps(cryptodata_ts)"
   ]
  },
  {
   "cell_type": "markdown",
   "metadata": {},
   "source": [
    "### Train/Test Split"
   ]
  },
  {
   "cell_type": "code",
   "execution_count": null,
   "metadata": {},
   "outputs": [],
   "source": [
    "ts_train <- head(cryptodata_ts, as.integer(nrow(cryptodata)*.8))"
   ]
  },
  {
   "cell_type": "code",
   "execution_count": null,
   "metadata": {},
   "outputs": [],
   "source": [
    "ts_test <- tail(cryptodata_ts, as.integer(nrow(cryptodata)*.2))"
   ]
  },
  {
   "cell_type": "markdown",
   "metadata": {},
   "source": [
    "## Timeseries Predictive Modeling"
   ]
  },
  {
   "cell_type": "markdown",
   "metadata": {},
   "source": [
    "#### Simple naive model"
   ]
  },
  {
   "cell_type": "code",
   "execution_count": null,
   "metadata": {},
   "outputs": [],
   "source": [
    "naive_model <- model(ts_train, naive = NAIVE(Close))"
   ]
  },
  {
   "cell_type": "code",
   "execution_count": null,
   "metadata": {},
   "outputs": [],
   "source": [
    "naive_model"
   ]
  },
  {
   "cell_type": "markdown",
   "metadata": {},
   "source": [
    "#### Compare predictions to what actually happens with this approach:"
   ]
  },
  {
   "cell_type": "code",
   "execution_count": null,
   "metadata": {},
   "outputs": [],
   "source": [
    "augment(naive_model)"
   ]
  },
  {
   "cell_type": "markdown",
   "metadata": {},
   "source": [
    "### Make multiple models at the same time"
   ]
  },
  {
   "cell_type": "code",
   "execution_count": null,
   "metadata": {},
   "outputs": [],
   "source": [
    "ts_models <- model(ts_train, snaive = SNAIVE(Close ~ lag(\"week\")),\n",
    "                             arima = ARIMA(Close))"
   ]
  },
  {
   "cell_type": "code",
   "execution_count": null,
   "metadata": {},
   "outputs": [],
   "source": [
    "ts_models"
   ]
  },
  {
   "cell_type": "markdown",
   "metadata": {},
   "source": [
    "##### We can look at the terms chosen for the ARIMA model:"
   ]
  },
  {
   "cell_type": "code",
   "execution_count": null,
   "metadata": {},
   "outputs": [],
   "source": [
    "tidy(ts_models)"
   ]
  },
  {
   "cell_type": "markdown",
   "metadata": {},
   "source": [
    "### Forecast"
   ]
  },
  {
   "cell_type": "code",
   "execution_count": null,
   "metadata": {},
   "outputs": [],
   "source": [
    "ts_forecasts <- forecast(ts_models, h = '1 day')"
   ]
  },
  {
   "cell_type": "code",
   "execution_count": null,
   "metadata": {},
   "outputs": [],
   "source": [
    "ts_forecasts"
   ]
  },
  {
   "cell_type": "markdown",
   "metadata": {},
   "source": [
    "### Accuracy on test set (all timeseries models)"
   ]
  },
  {
   "cell_type": "code",
   "execution_count": null,
   "metadata": {},
   "outputs": [],
   "source": [
    "accuracy(ts_forecasts, ts_test)"
   ]
  },
  {
   "cell_type": "code",
   "execution_count": null,
   "metadata": {},
   "outputs": [],
   "source": []
  },
  {
   "cell_type": "code",
   "execution_count": 9,
   "metadata": {},
   "outputs": [
    {
     "name": "stdout",
     "output_type": "stream",
     "text": [
      "rlang (0.4.6 -> 0.4.7) [CRAN]\n"
     ]
    },
    {
     "name": "stderr",
     "output_type": "stream",
     "text": [
      "Installing 1 packages: rlang\n",
      "Installing package into 'C:/Users/ries9/Documents/R/win-library/3.6'\n",
      "(as 'lib' is unspecified)\n"
     ]
    },
    {
     "ename": "ERROR",
     "evalue": "Error: (converted from warning) unable to access index for repository http://www.stats.ox.ac.uk/pub/RWin/bin/windows/contrib/3.6:\n  cannot open URL 'http://www.stats.ox.ac.uk/pub/RWin/bin/windows/contrib/3.6/PACKAGES'\n",
     "output_type": "error",
     "traceback": [
      "Error: (converted from warning) unable to access index for repository http://www.stats.ox.ac.uk/pub/RWin/bin/windows/contrib/3.6:\n  cannot open URL 'http://www.stats.ox.ac.uk/pub/RWin/bin/windows/contrib/3.6/PACKAGES'\nTraceback:\n",
      "1. remotes::update_packages(\"rlang\")",
      "2. update(pkgs, dependencies = dependencies, upgrade = upgrade, \n .     force = FALSE, quiet = quiet, build = build, build_opts = build_opts, \n .     build_manual = build_manual, build_vignettes = build_vignettes, \n .     repos = repos, type = type, ...)",
      "3. update.package_deps(pkgs, dependencies = dependencies, upgrade = upgrade, \n .     force = FALSE, quiet = quiet, build = build, build_opts = build_opts, \n .     build_manual = build_manual, build_vignettes = build_vignettes, \n .     repos = repos, type = type, ...)",
      "4. install_packages(object$package[object$is_cran & behind], repos = r$repos, \n .     type = r$pkg_type, dependencies = dependencies, quiet = quiet, \n .     ...)",
      "5. do.call(safe_install_packages, c(list(packages, repos = repos, \n .     type = type, dependencies = dependencies, quiet = quiet), \n .     args))",
      "6. (function (...) \n . {\n .     lib <- paste(.libPaths(), collapse = .Platform$path.sep)\n .     if (!is_standalone() && has_package(\"crancache\") && has_package(\"callr\")) {\n .         i.p <- \"crancache\" %::% \"install_packages\"\n .     }\n .     else {\n .         i.p <- utils::install.packages\n .     }\n .     with_options(list(install.lock = getOption(\"install.lock\", \n .         TRUE)), {\n .         with_envvar(c(R_LIBS = lib, R_LIBS_USER = lib, R_LIBS_SITE = lib, \n .             RGL_USE_NULL = \"TRUE\"), if (should_error_for_warnings()) {\n .             with_options(list(warn = 2), with_rprofile_user(\"options(warn = 2)\", \n .                 i.p(...)))\n .         }\n .         else {\n .             i.p(...)\n .         })\n .     })\n . })(\"rlang\", repos = c(CRAN = \"https://cran.r-project.org\", CRANextra = \"http://www.stats.ox.ac.uk/pub/RWin\"\n . ), type = \"both\", dependencies = c(\"Depends\", \"Imports\", \"LinkingTo\"\n . ), quiet = FALSE)",
      "7. with_options(list(install.lock = getOption(\"install.lock\", TRUE)), \n .     {\n .         with_envvar(c(R_LIBS = lib, R_LIBS_USER = lib, R_LIBS_SITE = lib, \n .             RGL_USE_NULL = \"TRUE\"), if (should_error_for_warnings()) {\n .             with_options(list(warn = 2), with_rprofile_user(\"options(warn = 2)\", \n .                 i.p(...)))\n .         }\n .         else {\n .             i.p(...)\n .         })\n .     })",
      "8. force(code)",
      "9. with_envvar(c(R_LIBS = lib, R_LIBS_USER = lib, R_LIBS_SITE = lib, \n .     RGL_USE_NULL = \"TRUE\"), if (should_error_for_warnings()) {\n .     with_options(list(warn = 2), with_rprofile_user(\"options(warn = 2)\", \n .         i.p(...)))\n . } else {\n .     i.p(...)\n . })",
      "10. force(code)",
      "11. with_options(list(warn = 2), with_rprofile_user(\"options(warn = 2)\", \n  .     i.p(...)))",
      "12. force(code)",
      "13. with_rprofile_user(\"options(warn = 2)\", i.p(...))",
      "14. with_envvar(c(R_PROFILE_USER = temp_rprofile), {\n  .     force(code)\n  . })",
      "15. force(code)",
      "16. force(code)",
      "17. i.p(...)",
      "18. available.packages(contriburl = contrib.url(repos, type2), method = method, \n  .     ...)",
      "19. warning(gettextf(\"unable to access index for repository %s\", \n  .     repos), \":\\n  \", conditionMessage(z), call. = FALSE, immediate. = TRUE, \n  .     domain = NA)",
      "20. .signalSimpleWarning(\"unable to access index for repository http://www.stats.ox.ac.uk/pub/RWin/bin/windows/contrib/3.6:\\n  cannot open URL 'http://www.stats.ox.ac.uk/pub/RWin/bin/windows/contrib/3.6/PACKAGES'\", \n  .     base::quote(NULL))",
      "21. withRestarts({\n  .     .Internal(.signalCondition(simpleWarning(msg, call), msg, \n  .         call))\n  .     .Internal(.dfltWarn(msg, call))\n  . }, muffleWarning = function() NULL)",
      "22. withOneRestart(expr, restarts[[1L]])",
      "23. doWithOneRestart(return(expr), restart)"
     ]
    }
   ],
   "source": [
    "remotes::update_packages(\"rlang\")"
   ]
  }
 ],
 "metadata": {
  "kernelspec": {
   "display_name": "R",
   "language": "R",
   "name": "ir"
  },
  "language_info": {
   "codemirror_mode": "r",
   "file_extension": ".r",
   "mimetype": "text/x-r-source",
   "name": "R",
   "pygments_lexer": "r",
   "version": "3.6.1"
  }
 },
 "nbformat": 4,
 "nbformat_minor": 4
}
